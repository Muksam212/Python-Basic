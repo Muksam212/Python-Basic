{
 "cells": [
  {
   "cell_type": "markdown",
   "id": "a47b7c1a",
   "metadata": {},
   "source": [
    "Python is a high-level Object-Oriented Programming Language. It was invented By Guido Van Rossum in 1991.\n",
    "\n",
    "\n",
    "It is used for-:\n",
    "\n",
    "a) Web Development.\n",
    "b) Game Development.\n",
    "c) Data Science.\n",
    "d) Mathematics and Many More"
   ]
  },
  {
   "cell_type": "code",
   "execution_count": null,
   "id": "ca325a6e",
   "metadata": {},
   "outputs": [],
   "source": [
    "#Printing the First "
   ]
  }
 ],
 "metadata": {
  "kernelspec": {
   "display_name": "Python 3 (ipykernel)",
   "language": "python",
   "name": "python3"
  },
  "language_info": {
   "codemirror_mode": {
    "name": "ipython",
    "version": 3
   },
   "file_extension": ".py",
   "mimetype": "text/x-python",
   "name": "python",
   "nbconvert_exporter": "python",
   "pygments_lexer": "ipython3",
   "version": "3.9.5"
  }
 },
 "nbformat": 4,
 "nbformat_minor": 5
}
